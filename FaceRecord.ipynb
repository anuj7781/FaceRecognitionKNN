{
 "cells": [
  {
   "cell_type": "code",
   "execution_count": 2,
   "metadata": {},
   "outputs": [
    {
     "name": "stdout",
     "output_type": "stream",
     "text": [
      "(20, 50, 50, 3)\n"
     ]
    }
   ],
   "source": [
    "import numpy as np\n",
    "import cv2\n",
    "\n",
    "# instantiate a camera object to capture images\n",
    "cam = cv2.VideoCapture(0)\n",
    "\n",
    "# create a haar-cascade object for face detection\n",
    "face_cas = cv2.CascadeClassifier('./haarcascade_frontalface_default.xml')\n",
    "\n",
    "# create a placeholder for storing the data\n",
    "data = []\n",
    "ix = 0# current frame number\n",
    "\n",
    "while True:\n",
    "    # retrieve the ret (boolean) and frame from camera\n",
    "    ret, frame = cam.read()\n",
    "\n",
    "    # if the camera is working fine, we proceed to extract the face\n",
    "    if ret == True:\n",
    "        # convert the current frame to grayscale\n",
    "        gray = cv2.cvtColor(frame, cv2.COLOR_BGR2GRAY)\n",
    "\n",
    "        # apply the haar cascade to detect faces in the current frame\n",
    "        # the other parameters 1.3 and 5 are fine tuning parameters\n",
    "        # for the haar cascade object\n",
    "        faces = face_cas.detectMultiScale(gray, 1.3, 5)\n",
    "\n",
    "        # for each face object we get, we have\n",
    "        # the corner coords (x, y)\n",
    "        # and the width and height of the face\n",
    "        for (x, y, w, h) in faces:\n",
    "\n",
    "            # get the face component from the image frame\n",
    "            face_component = frame[y:y+h, x:x+w, :]\n",
    "\n",
    "            # resize the face image to 50X50X3\n",
    "            fc = cv2.resize(face_component, (50, 50))\n",
    "\n",
    "            # store the face data after every 10 frames\n",
    "            # only if the number of entries is less than 20\n",
    "            if ix%10 == 0 and len(data) < 20:\n",
    "                data.append(fc)\n",
    "\n",
    "            # for visualization, draw a rectangle around the face\n",
    "            # in the image\n",
    "            cv2.rectangle(frame, (x, y), (x+w, y+h), (0, 255, 0), 2)\n",
    "        ix += 1# increment the current frame number\n",
    "        cv2.imshow('frame', frame)# display the frame\n",
    "\n",
    "        # if the user presses the escape key (ID: 27)\n",
    "        # or the number of images hits 20, we stop\n",
    "        # recording.\n",
    "        if cv2.waitKey(1) == 27 or len(data) >= 20:\n",
    "            break\n",
    "    else:\n",
    "        # if the camera is not working, print \"error\"\n",
    "        print(\"error\")\n",
    "\n",
    "# now we destroy the windows we have created\n",
    "cv2.destroyAllWindows()\n",
    "\n",
    "# convert the data to a numpy format\n",
    "data = np.asarray(data)\n",
    "\n",
    "# print the shape as a sanity-check\n",
    "print(data.shape)\n",
    "\n",
    "# save the data as a numpy matrix in an encoded format\n",
    "np.save('face_01', data)\n",
    "\n",
    "# We'll run the script for different people and store\n",
    "# the data into multiple files"
   ]
  },
  {
   "cell_type": "code",
   "execution_count": null,
   "metadata": {},
   "outputs": [],
   "source": []
  },
  {
   "cell_type": "code",
   "execution_count": null,
   "metadata": {},
   "outputs": [],
   "source": []
  },
  {
   "cell_type": "code",
   "execution_count": null,
   "metadata": {},
   "outputs": [],
   "source": []
  },
  {
   "cell_type": "code",
   "execution_count": null,
   "metadata": {},
   "outputs": [],
   "source": []
  },
  {
   "cell_type": "code",
   "execution_count": null,
   "metadata": {},
   "outputs": [],
   "source": []
  },
  {
   "cell_type": "code",
   "execution_count": null,
   "metadata": {},
   "outputs": [],
   "source": []
  },
  {
   "cell_type": "code",
   "execution_count": null,
   "metadata": {},
   "outputs": [],
   "source": []
  },
  {
   "cell_type": "code",
   "execution_count": null,
   "metadata": {},
   "outputs": [],
   "source": []
  }
 ],
 "metadata": {
  "kernelspec": {
   "display_name": "Python 3",
   "language": "python",
   "name": "python3"
  },
  "language_info": {
   "codemirror_mode": {
    "name": "ipython",
    "version": 3
   },
   "file_extension": ".py",
   "mimetype": "text/x-python",
   "name": "python",
   "nbconvert_exporter": "python",
   "pygments_lexer": "ipython3",
   "version": "3.5.6"
  }
 },
 "nbformat": 4,
 "nbformat_minor": 2
}
